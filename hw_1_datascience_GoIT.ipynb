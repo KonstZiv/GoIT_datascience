{
  "nbformat": 4,
  "nbformat_minor": 0,
  "metadata": {
    "colab": {
      "name": "hw_1_datascience_GoIT.ipynb",
      "provenance": [],
      "authorship_tag": "ABX9TyMjYjGrLr30bKdIWHP99KlC",
      "include_colab_link": true
    },
    "kernelspec": {
      "name": "python3",
      "display_name": "Python 3"
    },
    "language_info": {
      "name": "python"
    }
  },
  "cells": [
    {
      "cell_type": "markdown",
      "metadata": {
        "id": "view-in-github",
        "colab_type": "text"
      },
      "source": [
        "<a href=\"https://colab.research.google.com/github/KonstZiv/GoIT_datascience/blob/main/hw_1_datascience_GoIT.ipynb\" target=\"_parent\"><img src=\"https://colab.research.google.com/assets/colab-badge.svg\" alt=\"Open In Colab\"/></a>"
      ]
    },
    {
      "cell_type": "markdown",
      "metadata": {
        "id": "A8FAg4Jmzame"
      },
      "source": [
        "---\n",
        "Вкладчик положил 50000 условных единиц на три разных счета в три разных банка. По первому счету выплаты составят 5% годовых, по второму – 7% годовых и по третьему 6% годовых. Известно, что через год вкладчик получил по процентам сумму в 2250 у.е. с первого и второго банка и сумму в 1400 у.е. с первого и третьего банка. Сколько условных единиц он положил на каждый счет изначально?\n",
        "---"
      ]
    },
    {
      "cell_type": "markdown",
      "metadata": {
        "id": "41SQAQ5fz1ET"
      },
      "source": [
        "## система уравнений имеет вид:\n",
        "---\n",
        "x1 + x2 + x3 = 50000  x1 - вклад в банке 1\n",
        "\n",
        "                      x2 - вклад в банке 2\n",
        "                      \n",
        "                      x3 - вклад в банке 3\n",
        "                      \n",
        "                      сумма всех вкладов равна 50000$\n",
        "---\n",
        "#### процентная ставка по вкладам в первом банке 5%,во втором 7%, в третьем 6%\n",
        "---\n",
        "0.05*x1 + 0.07*x2 + 0*x3 = 2250   через год сумма процентов с первого и второго банков составила 2250\n",
        "\n",
        "0.05*x1 + 0*x2 + 0.06*x3 = 1400   через год сумма процентов с первого и второго банков составила 1400"
      ]
    },
    {
      "cell_type": "code",
      "metadata": {
        "colab": {
          "base_uri": "https://localhost:8080/"
        },
        "id": "AzvHZ3yL0BBF",
        "outputId": "1cf74da7-b230-4a01-e5e9-a39c49d11ec4"
      },
      "source": [
        "import numpy as np\n",
        "A = np.matrix(\"1, 1, 1; 0.05, 0.07, 0; 0.05, 0, 0.06\")\n",
        "b = np.array([50000, 2250, 1400])\n",
        "x = np.linalg.solve(A, b)\n",
        "print(x)"
      ],
      "execution_count": 5,
      "outputs": [
        {
          "output_type": "stream",
          "name": "stdout",
          "text": [
            "[10000. 25000. 15000.]\n"
          ]
        }
      ]
    },
    {
      "cell_type": "code",
      "metadata": {
        "id": "7WhQn8Py1g4-"
      },
      "source": [
        ""
      ],
      "execution_count": null,
      "outputs": []
    },
    {
      "cell_type": "markdown",
      "metadata": {
        "id": "Js-TuUvI17vi"
      },
      "source": [
        "---\n",
        "На складе хранятся мобильные телефоны iPhone 6, iPhone 11, iPhone 12 моделей. Всего 1328 экземпляра. Моделей iPhone 6 на 120 меньше, чем моделей iPhone 11, и на 100 больше, чем моделей iPhone 12. Сколько моделей каждого вида на складе?\n",
        "---\n",
        "\n"
      ]
    },
    {
      "cell_type": "code",
      "metadata": {
        "id": "ihjgNhrw1-Rn"
      },
      "source": [
        ""
      ],
      "execution_count": null,
      "outputs": []
    },
    {
      "cell_type": "markdown",
      "metadata": {
        "id": "ZPdPq0zm2BC-"
      },
      "source": [
        "Обозначим количество телефонов iPhone 6, iPhone 11 и iPhone 12 переменными iphone_6, iphone_11 и iphone_12 соотвественно.\n",
        "Тогда условие задачи: \"всего 1328 экземпляров\" записывается как\n",
        "\n",
        "iphone_6 + iphone_11 + iphone_12 = 1328\n",
        "\n",
        "условие \"Моделей iPhone 6 на 120 меньше, чем моделей iPhone 11, и на 100 больше, чем моделей iPhone 12\" дает два уравнения\n",
        "\n",
        "iphone_6 - iphone_11 = - 120\n",
        "\n",
        "iphone_6 - iphone_12 = 100\n",
        "\n",
        "Таким образом мы имеем матрицу коэффициентов и матрицу свободных членов следующего вида:"
      ]
    },
    {
      "cell_type": "code",
      "metadata": {
        "colab": {
          "base_uri": "https://localhost:8080/"
        },
        "id": "FpkkUBxN3uy1",
        "outputId": "9a688d72-5583-4077-8655-bcc1b9ec9bc4"
      },
      "source": [
        "A = np.matrix(\"1, 1, 1; 1, -1, 0; 1, 0, -1\")\n",
        "b = np.array([1328, -120, 100])\n",
        "x = np.linalg.solve(A, b)\n",
        "print(x)"
      ],
      "execution_count": 6,
      "outputs": [
        {
          "output_type": "stream",
          "name": "stdout",
          "text": [
            "[436. 556. 336.]\n"
          ]
        }
      ]
    },
    {
      "cell_type": "markdown",
      "metadata": {
        "id": "-G5vAln0cCC7"
      },
      "source": [
        "---\n",
        "Составьте каноническое уравнение эллипсоида, проходящего через три точки A, B и C:\n",
        "A(sqrt{3}; 0; sqrt{3})\n",
        "B(sqrt(6); 0.5; 0)\n",
        "C(1; sqrt(3)^-1; 1)\n",
        "Каноническок уравнение эллипса:\n",
        "\n",
        "$x^2/a^2 + y^2/b^2 + z^2/c^2 = 1$\n",
        "\n",
        "Задача - найти коэфиициенты a, b, c\n",
        "\n",
        "---\n",
        "\n",
        "Учитывая что эллипс проходит чере A, B, C - имеем систему линейных уравнений:"
      ]
    },
    {
      "cell_type": "markdown",
      "metadata": {
        "id": "4YkJT8jWe2kz"
      },
      "source": [
        "$(1/a^2) * 3 + (1/b^2) * 0 + (1/c^2) * 3 = 1$\n",
        "\n",
        "$(1/a^2) * 6 + (1/b^2) * 0.5 + (1/c^2) * 0 = 1$\n",
        "\n",
        "$(1/a^2) * 1 + (1/b^2) * (1/sqrt{3}) + (1/c^2) * 1 = 1$"
      ]
    },
    {
      "cell_type": "code",
      "metadata": {
        "colab": {
          "base_uri": "https://localhost:8080/"
        },
        "id": "KWEtGilxg1ha",
        "outputId": "a07cace0-ddda-42a6-c747-9713af4a20d1"
      },
      "source": [
        "\n",
        "A = np.array([[3, 0, 3], [6, 0.5, 0], [1, 1/3**0.5, 1]])\n",
        "b = np.array([1, 1, 1])\n",
        "x = np.linalg.solve(A, b)\n",
        "print(x)"
      ],
      "execution_count": 7,
      "outputs": [
        {
          "output_type": "stream",
          "name": "stdout",
          "text": [
            "[0.07044162 1.15470054 0.26289171]\n"
          ]
        }
      ]
    },
    {
      "cell_type": "code",
      "metadata": {
        "id": "D_UNlvVI5DS3"
      },
      "source": [
        ""
      ],
      "execution_count": null,
      "outputs": []
    },
    {
      "cell_type": "markdown",
      "metadata": {
        "id": "q0Zl5INN5FhE"
      },
      "source": [
        "искомые значения $(a^2) (b^2) (c^2)$ обратны полученным $(1/a^2) (1/b^2) (1/c^2)$. Для получения искомых результатов применим групповую операцию:"
      ]
    },
    {
      "cell_type": "code",
      "metadata": {
        "colab": {
          "base_uri": "https://localhost:8080/"
        },
        "id": "jaL_-8WR580j",
        "outputId": "a399159b-0603-4796-ce09-a7085dbb4122"
      },
      "source": [
        "result = 1/x\n",
        "print(result)"
      ],
      "execution_count": 9,
      "outputs": [
        {
          "output_type": "stream",
          "name": "stdout",
          "text": [
            "[14.19615242  0.8660254   3.80384758]\n"
          ]
        }
      ]
    },
    {
      "cell_type": "markdown",
      "metadata": {
        "id": "EcEqVV046N_G"
      },
      "source": [
        "---\n",
        "Составьте уравнение параболы проходящей через заданные три точки (1,12), (3,54), (-1,2). Необходимо найти коэффициенты уравнения a,b,c\n",
        "\n",
        "$y=a \\cdot x^2 + b \\cdot x + c$\n",
        "---"
      ]
    },
    {
      "cell_type": "code",
      "metadata": {
        "id": "R4GFoTFE6mkL"
      },
      "source": [
        ""
      ],
      "execution_count": null,
      "outputs": []
    },
    {
      "cell_type": "markdown",
      "metadata": {
        "id": "3y08FKdq6ojB"
      },
      "source": [
        "---\n",
        "для решения задачи необходимо построить систему из трех уравнений которая должна быть разрешена относительно неизвестных a, b, c. Три уравнения строятся путем подстановки заданных в условии координат трех точек в уравнеение\n",
        "\n",
        "$a*1^2 + b* 1 + c = 12$\n",
        "\n",
        "$a*3^2 + b* 3 + c = 54$\n",
        "\n",
        "$a * (-1)^2$ + b * (-1) + c = 2\n",
        "\n",
        "---\n"
      ]
    },
    {
      "cell_type": "code",
      "metadata": {
        "colab": {
          "base_uri": "https://localhost:8080/"
        },
        "id": "7rBxllAZSKeP",
        "outputId": "65b42dae-80f3-4859-a34a-3658c5559785"
      },
      "source": [
        "A = np.matrix(\"1, 1, 1; 9, 3, 1; 1, -1, 1\")\n",
        "b = np.array([12, 54, 2])\n",
        "x = np.linalg.solve(A, b)\n",
        "print(x)"
      ],
      "execution_count": 10,
      "outputs": [
        {
          "output_type": "stream",
          "name": "stdout",
          "text": [
            "[4. 5. 3.]\n"
          ]
        }
      ]
    },
    {
      "cell_type": "markdown",
      "metadata": {
        "id": "5rd-YodSXNS_"
      },
      "source": [
        "---\n",
        "Составьте функцию get_polynom, которая по набору точек вида $(x_1,y_1),(x_2,y_2), \\ldots, (x_{n+1}, y_{n+1})$ будет находить коэффициенты многочлена $c_i$. Таким образом функция принимает список кортежей с координатами и возвращает набор коэффициентов $c_0,c_1, \\ldots c_n$\n",
        "---\n"
      ]
    },
    {
      "cell_type": "code",
      "metadata": {
        "id": "fjjDerulaac9"
      },
      "source": [
        "import numpy as np\n",
        "\n",
        "def get_polynom(coords):\n",
        "    b = np.matrix([coord[1] for coord in coords])\n",
        "    A = np.matrix([[coord[0]**i for i in range(len(coords) - 1, -1, -1)] for coord in coords])\n",
        "    return np.linalg.solve(A, b)"
      ],
      "execution_count": 18,
      "outputs": []
    },
    {
      "cell_type": "code",
      "metadata": {
        "id": "7Q1QxRiIk6t4"
      },
      "source": [
        ""
      ],
      "execution_count": null,
      "outputs": []
    }
  ]
}