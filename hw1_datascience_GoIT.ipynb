{
  "nbformat": 4,
  "nbformat_minor": 0,
  "metadata": {
    "colab": {
      "name": "hw1_datascience_GoIT.ipynb",
      "provenance": [],
      "toc_visible": true,
      "authorship_tag": "ABX9TyMXlwstMBvNF0KbGOTAkqH1",
      "include_colab_link": true
    },
    "kernelspec": {
      "name": "python3",
      "display_name": "Python 3"
    },
    "language_info": {
      "name": "python"
    }
  },
  "cells": [
    {
      "cell_type": "markdown",
      "metadata": {
        "id": "view-in-github",
        "colab_type": "text"
      },
      "source": [
        "<a href=\"https://colab.research.google.com/github/KonstZiv/GoIT_datascience/blob/main/hw1_datascience_GoIT.ipynb\" target=\"_parent\"><img src=\"https://colab.research.google.com/assets/colab-badge.svg\" alt=\"Open In Colab\"/></a>"
      ]
    },
    {
      "cell_type": "markdown",
      "metadata": {
        "id": "-G5vAln0cCC7"
      },
      "source": [
        "\n",
        "Составьте каноническое уравнение эллипсоида, проходящего через три точки A, B и C:\n",
        "A(sqrt{3}; 0; sqrt{3})\n",
        "B(sqrt(6); 0.5; 0)\n",
        "C(1; sqrt(3)^-1; 1)\n",
        "Каноническок уравнение эллипса:\n",
        "\n",
        "$x^2/a^2 + y^2/b^2 + z^2/c^2 = 1$\n",
        "\n",
        "Задача - найти коэфиициенты a, b, c\n",
        "\n",
        "Учитывая что эллипс проходит чере A, B, C - имеем систему линейных уравнений:"
      ]
    },
    {
      "cell_type": "markdown",
      "metadata": {
        "id": "4YkJT8jWe2kz"
      },
      "source": [
        "$(1/a^2) * 3 + (1/b^2) * 0 + (1/c^2) * 3 = 1$\n",
        "\n",
        "$(1/a^2) * 6 + (1/b^2) * 0.5 + (1/c^2) * 0 = 1$\n",
        "\n",
        "$(1/a^2) * 1 + (1/b^2) * (1/sqrt{3}) + (1/c^2) * 1 = 1$"
      ]
    },
    {
      "cell_type": "code",
      "metadata": {
        "colab": {
          "base_uri": "https://localhost:8080/"
        },
        "id": "KWEtGilxg1ha",
        "outputId": "ef86da13-56a1-4337-80ab-8b1049d65865"
      },
      "source": [
        "import numpy as np\n",
        "\n",
        "A = np.array([[3, 0, 3], [6, 0.5, 0], [1, 1/3**0.5, 1]])\n",
        "b = np.array([1, 1, 1])\n",
        "x = np.linalg.solve(A, b)\n",
        "print(x)"
      ],
      "execution_count": null,
      "outputs": [
        {
          "output_type": "stream",
          "name": "stdout",
          "text": [
            "[0.07044162 1.15470054 0.26289171]\n"
          ]
        }
      ]
    },
    {
      "cell_type": "code",
      "metadata": {
        "colab": {
          "base_uri": "https://localhost:8080/"
        },
        "id": "EkY74jyZhmUp",
        "outputId": "c16b586b-ff74-457c-e761-b863b56a448a"
      },
      "source": [
        "test_matr = np.array([[2, 2, 2], [3, 3, 3], [4, 4, 4]])\n",
        "s= test_matr\n",
        "print(s**0.5)"
      ],
      "execution_count": null,
      "outputs": [
        {
          "output_type": "stream",
          "name": "stdout",
          "text": [
            "[[1.41421356 1.41421356 1.41421356]\n",
            " [1.73205081 1.73205081 1.73205081]\n",
            " [2.         2.         2.        ]]\n"
          ]
        }
      ]
    }
  ]
}